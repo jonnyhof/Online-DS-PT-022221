{
 "cells": [
  {
   "cell_type": "markdown",
   "metadata": {
    "slideshow": {
     "slide_type": "slide"
    }
   },
   "source": [
    "![sql](images/sql-logo.jpg)\n",
    "\n",
    "# From SQL Queries to Pandas"
   ]
  },
  {
   "attachments": {},
   "cell_type": "markdown",
   "metadata": {},
   "source": [
    "First, let's discuss - what does this querying potentially look like in the real world/on a job?\n",
    "\n",
    "https://sqlitebrowser.org/"
   ]
  },
  {
   "cell_type": "markdown",
   "metadata": {
    "slideshow": {
     "slide_type": "slide"
    }
   },
   "source": [
    "## Let's Explore a Database!"
   ]
  },
  {
   "cell_type": "code",
   "execution_count": null,
   "metadata": {
    "slideshow": {
     "slide_type": "fragment"
    }
   },
   "outputs": [],
   "source": [
    "# of course, need an import\n",
    "import sqlite3"
   ]
  },
  {
   "cell_type": "markdown",
   "metadata": {
    "slideshow": {
     "slide_type": "slide"
    }
   },
   "source": [
    "#### Load a database object with `connect` and `cursor`"
   ]
  },
  {
   "cell_type": "code",
   "execution_count": null,
   "metadata": {
    "slideshow": {
     "slide_type": "fragment"
    }
   },
   "outputs": [],
   "source": [
    "con = sqlite3.connect('data/flights.db')\n",
    "cursor = con.cursor()"
   ]
  },
  {
   "cell_type": "markdown",
   "metadata": {},
   "source": [
    "Our cursor is what we'll use to execute queries on a database."
   ]
  },
  {
   "cell_type": "markdown",
   "metadata": {
    "slideshow": {
     "slide_type": "slide"
    }
   },
   "source": [
    "## The Structure of a SQL Query"
   ]
  },
  {
   "cell_type": "markdown",
   "metadata": {
    "slideshow": {
     "slide_type": "slide"
    }
   },
   "source": [
    "![structure of a sql query](images/sql_statement.jpg)"
   ]
  },
  {
   "cell_type": "markdown",
   "metadata": {
    "slideshow": {
     "slide_type": "slide"
    }
   },
   "source": [
    "### Constructing SQL queries"
   ]
  },
  {
   "cell_type": "markdown",
   "metadata": {
    "slideshow": {
     "slide_type": "fragment"
    }
   },
   "source": [
    "**`SELECT`**:  The columns you want\n",
    "\n",
    "options: \n",
    " - `DISTINCT`\n",
    " - using `AS` to rename columns, called *aliasing*\n",
    " - single number aggregates"
   ]
  },
  {
   "cell_type": "markdown",
   "metadata": {
    "slideshow": {
     "slide_type": "fragment"
    }
   },
   "source": [
    "**`FROM`:** the source tables\n",
    "\n",
    "options: \n",
    "- also can alias with `AS`\n",
    "     - here is also where we can join other tables too, with `[LEFT|INNER|RIGHT|FULL] JOIN ___ [ON|USING]`"
   ]
  },
  {
   "cell_type": "markdown",
   "metadata": {
    "slideshow": {
     "slide_type": "fragment"
    }
   },
   "source": [
    "**`WHERE`**: your filters\n",
    "\n",
    "options: \n",
    "- comparators like `=` & `>=`\n",
    "- `BETWEEN`, `IN`, `LIKE` (with wildcards `%`)\n",
    "- booleans like `AND`, `OR`, `NOT`"
   ]
  },
  {
   "cell_type": "markdown",
   "metadata": {
    "slideshow": {
     "slide_type": "fragment"
    }
   },
   "source": [
    "**`ORDER BY`**: sorting\n",
    "\n",
    "options: \n",
    " - `ASC` (default) and `DESC`"
   ]
  },
  {
   "cell_type": "markdown",
   "metadata": {
    "slideshow": {
     "slide_type": "fragment"
    }
   },
   "source": [
    "**`LIMIT`**:  # of rows to return (pair with `OFFSET`)"
   ]
  },
  {
   "cell_type": "markdown",
   "metadata": {},
   "source": [
    "There are more! But those are most of the pieces of an SQL query that we'll use for now.\n",
    "\n",
    "**NOTE:** SQL doesn't care about spacing, and doesn't care about capslock for statement options. But, it's convention - plus it makes your queries easier to read, for yourself and others."
   ]
  },
  {
   "cell_type": "markdown",
   "metadata": {
    "slideshow": {
     "slide_type": "slide"
    }
   },
   "source": [
    "### Using `Pragma`\n",
    "\n",
    "Note that [`PRAGMA`](https://www.sqlite.org/pragma.html) is a query statement specific to SQLite - in some ways similar to the \n",
    "\n",
    "**output:**\n",
    "\n",
    "`(column id, column name, data type, whether or not the column can be NULL, the default value for the column, and whether the column is a foreign key)`"
   ]
  },
  {
   "cell_type": "code",
   "execution_count": null,
   "metadata": {
    "slideshow": {
     "slide_type": "slide"
    }
   },
   "outputs": [],
   "source": [
    "cursor.execute(\"PRAGMA table_info(airports)\")\n",
    "info = cursor.fetchall()\n",
    "print(*info, sep = \"\\n\")  #cool new way of using python's print"
   ]
  },
  {
   "cell_type": "markdown",
   "metadata": {
    "slideshow": {
     "slide_type": "slide"
    }
   },
   "source": [
    "Now let's get the descriptive data for the other two tables, `airlines` and `routes`"
   ]
  },
  {
   "cell_type": "code",
   "execution_count": null,
   "metadata": {},
   "outputs": [],
   "source": [
    "cursor.execute(\"PRAGMA table_info(airlines)\")\n",
    "info = cursor.fetchall()\n",
    "print(*info, sep = \"\\n\")"
   ]
  },
  {
   "cell_type": "code",
   "execution_count": null,
   "metadata": {},
   "outputs": [],
   "source": [
    "cursor.execute(\"PRAGMA table_info(routes)\")\n",
    "info = cursor.fetchall()\n",
    "print(*info, sep = \"\\n\")"
   ]
  },
  {
   "cell_type": "markdown",
   "metadata": {},
   "source": [
    "## Time to Practice!"
   ]
  },
  {
   "cell_type": "markdown",
   "metadata": {
    "slideshow": {
     "slide_type": "slide"
    }
   },
   "source": [
    "#### Write a query that will join the **latitude** and **longitude** data from the `airports` table to the information on the `routes` table"
   ]
  },
  {
   "cell_type": "code",
   "execution_count": null,
   "metadata": {},
   "outputs": [],
   "source": []
  },
  {
   "cell_type": "markdown",
   "metadata": {
    "slideshow": {
     "slide_type": "slide"
    }
   },
   "source": [
    "#### Which countries have the most active airlines?\n",
    "\n",
    "Return the 25 countries with the most active airlines"
   ]
  },
  {
   "cell_type": "code",
   "execution_count": null,
   "metadata": {
    "scrolled": true,
    "slideshow": {
     "slide_type": "skip"
    }
   },
   "outputs": [],
   "source": []
  },
  {
   "cell_type": "markdown",
   "metadata": {},
   "source": [
    "#### What about inactive airlines?\n",
    "\n",
    "Return all the countries that have more than 10 inactive airlines."
   ]
  },
  {
   "cell_type": "code",
   "execution_count": null,
   "metadata": {
    "slideshow": {
     "slide_type": "skip"
    }
   },
   "outputs": [],
   "source": []
  },
  {
   "cell_type": "markdown",
   "metadata": {},
   "source": [
    "#### How many airports are there in each timezone?"
   ]
  },
  {
   "cell_type": "code",
   "execution_count": null,
   "metadata": {
    "slideshow": {
     "slide_type": "skip"
    }
   },
   "outputs": [],
   "source": []
  },
  {
   "cell_type": "markdown",
   "metadata": {},
   "source": [
    "### New Stuff! CASE Statements\n",
    "\n",
    "CASE statements are SQL's version of `if ... then ... else`. They must always be closed with an END (usually an END AS).\n",
    "\n",
    "Useful reference: https://mode.com/sql-tutorial/sql-case/"
   ]
  },
  {
   "cell_type": "code",
   "execution_count": null,
   "metadata": {},
   "outputs": [],
   "source": [
    "# Example - create a new column that shows an airport's hemisphere\n",
    "cursor.execute(\"\"\"\n",
    "    SELECT name, city, country,\n",
    "    CASE WHEN latitude > 0 THEN 'northern'\n",
    "        ELSE 'southern'\n",
    "        END AS hemisphere\n",
    "    FROM airports\n",
    "    LIMIT 10;\n",
    "    \"\"\").fetchall()"
   ]
  },
  {
   "cell_type": "markdown",
   "metadata": {},
   "source": [
    "What's happening?\n",
    "\n",
    "1. The CASE statement checks each row to see if the conditional statement (`latitude > 0`) is true\n",
    "2. If that conditional statement is true for that row, the word \"northern\" gets printed in the column that we have named `hemisphere`\n",
    "3. If the conditional statement is false for that row, the word \"southern\" gets printed in the `hemisphere` column instead\n",
    "4. At the same time all this is happening, SQL is retrieving and displaying all the values in the `name` and `city` columns"
   ]
  },
  {
   "cell_type": "markdown",
   "metadata": {},
   "source": [
    "It's always a good idea to close our connections when we're done"
   ]
  },
  {
   "cell_type": "code",
   "execution_count": null,
   "metadata": {},
   "outputs": [],
   "source": [
    "# Closing those connections\n",
    "cursor.close()\n",
    "con.close()"
   ]
  },
  {
   "cell_type": "markdown",
   "metadata": {
    "slideshow": {
     "slide_type": "slide"
    }
   },
   "source": [
    "## Moving from SQLite3 to pandas"
   ]
  },
  {
   "cell_type": "code",
   "execution_count": null,
   "metadata": {},
   "outputs": [],
   "source": [
    "# need to import pandas!\n"
   ]
  },
  {
   "cell_type": "code",
   "execution_count": null,
   "metadata": {
    "slideshow": {
     "slide_type": "fragment"
    }
   },
   "outputs": [],
   "source": [
    "# Can use either pd.read_sql_query or pd.read_sql\n"
   ]
  },
  {
   "cell_type": "markdown",
   "metadata": {
    "slideshow": {
     "slide_type": "slide"
    }
   },
   "source": [
    "#### Convert one of the earlier queries in the lesson to a pandas data frame"
   ]
  },
  {
   "cell_type": "code",
   "execution_count": null,
   "metadata": {
    "scrolled": false
   },
   "outputs": [],
   "source": []
  },
  {
   "cell_type": "code",
   "execution_count": null,
   "metadata": {},
   "outputs": [],
   "source": [
    "# Now close that pandas connection\n",
    "pd_con.close()"
   ]
  },
  {
   "cell_type": "markdown",
   "metadata": {},
   "source": [
    "Another way to move results into a pandas dataframe:"
   ]
  },
  {
   "cell_type": "code",
   "execution_count": null,
   "metadata": {},
   "outputs": [],
   "source": [
    "# closed our connections before, need to open them back up\n",
    "con = sqlite3.connect('data/flights.db')\n",
    "cursor = con.cursor()"
   ]
  },
  {
   "cell_type": "code",
   "execution_count": null,
   "metadata": {},
   "outputs": [],
   "source": [
    "res = cursor.execute(\"\"\"\n",
    "    SELECT country, COUNT(*) as active_airline_count\n",
    "    FROM airlines\n",
    "    WHERE active = 'Y'\n",
    "    GROUP BY country\n",
    "    ORDER BY active_airline_count DESC;\n",
    "    \"\"\").fetchall()"
   ]
  },
  {
   "cell_type": "code",
   "execution_count": null,
   "metadata": {},
   "outputs": [],
   "source": [
    "df = pd.DataFrame(res)\n",
    "df.columns = [desc[0] for desc in cursor.description]"
   ]
  },
  {
   "cell_type": "code",
   "execution_count": null,
   "metadata": {},
   "outputs": [],
   "source": [
    "df.head()"
   ]
  },
  {
   "cell_type": "code",
   "execution_count": null,
   "metadata": {},
   "outputs": [],
   "source": [
    "cursor.close()\n",
    "con.close()"
   ]
  },
  {
   "cell_type": "markdown",
   "metadata": {},
   "source": [
    "## Additional Resources\n",
    "\n",
    "Reading Resources:\n",
    "\n",
    "- [MariaDB's list of relational database terms, which also helps explain table relationships](https://mariadb.com/kb/en/relational-databases-basic-terms/)\n",
    "- [History of SQL Article](https://www.businessnewsdaily.com/5804-what-is-sql.html)\n",
    "- [The original SQL paper from the 1970s](https://www.seas.upenn.edu/~zives/03f/cis550/codd.pdf)\n",
    "\n",
    "Free SQL Courses: \n",
    "\n",
    "- [Kaggle's Courses](https://www.kaggle.com/learn/overview) on Intro to SQL and Advanced SQL - will include connecting to a Google Biq Query database\n",
    "- [Khan Academy's SQL Course](https://www.khanacademy.org/computing/computer-programming/sql), which includes using more complicated query commands like CASE\n",
    "- [Coursera Course on Modern Big Data Analysis with SQL](https://www.coursera.org/specializations/cloudera-big-data-analysis-sql) which was just recommended to me via the data science subreddit - covers SQL queries with specific considerations for very very large datasets stored in clusters in the cloud (specifically covers Hive and Impala, I'll likely be taking this course for fun over the next few weeks if anyone wants to join me!)"
   ]
  }
 ],
 "metadata": {
  "kernelspec": {
   "display_name": "Python 3",
   "language": "python",
   "name": "python3"
  },
  "language_info": {
   "codemirror_mode": {
    "name": "ipython",
    "version": 3
   },
   "file_extension": ".py",
   "mimetype": "text/x-python",
   "name": "python",
   "nbconvert_exporter": "python",
   "pygments_lexer": "ipython3",
   "version": "3.8.5"
  }
 },
 "nbformat": 4,
 "nbformat_minor": 4
}
