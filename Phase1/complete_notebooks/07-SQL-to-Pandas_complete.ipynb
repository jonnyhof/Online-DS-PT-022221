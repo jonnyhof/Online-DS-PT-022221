{
 "cells": [
  {
   "cell_type": "markdown",
   "metadata": {
    "slideshow": {
     "slide_type": "slide"
    }
   },
   "source": [
    "![sql](images/sql-logo.jpg)\n",
    "\n",
    "# From SQL Queries to Pandas"
   ]
  },
  {
   "cell_type": "markdown",
   "metadata": {},
   "source": [
    "First, let's discuss - what does this querying potentially look like in the real world/on a job?\n",
    "\n",
    "https://sqlitebrowser.org/"
   ]
  },
  {
   "cell_type": "markdown",
   "metadata": {
    "slideshow": {
     "slide_type": "slide"
    }
   },
   "source": [
    "## Let's Explore a Database!"
   ]
  },
  {
   "cell_type": "code",
   "execution_count": 1,
   "metadata": {
    "slideshow": {
     "slide_type": "fragment"
    }
   },
   "outputs": [],
   "source": [
    "# of course, need an import\n",
    "import sqlite3"
   ]
  },
  {
   "cell_type": "markdown",
   "metadata": {
    "slideshow": {
     "slide_type": "slide"
    }
   },
   "source": [
    "#### Load a database object with `connect` and `cursor`"
   ]
  },
  {
   "cell_type": "code",
   "execution_count": 2,
   "metadata": {
    "slideshow": {
     "slide_type": "fragment"
    }
   },
   "outputs": [],
   "source": [
    "con = sqlite3.connect('data/flights.db')\n",
    "cursor = con.cursor()"
   ]
  },
  {
   "cell_type": "code",
   "execution_count": 3,
   "metadata": {},
   "outputs": [
    {
     "data": {
      "text/plain": [
       "[(0, '1', 'Private flight', '\\\\N', '-', None, None, None, 'Y'),\n",
       " (1, '2', '135 Airways', '\\\\N', None, 'GNL', 'GENERAL', 'United States', 'N'),\n",
       " (2, '3', '1Time Airline', '\\\\N', '1T', 'RNX', 'NEXTIME', 'South Africa', 'Y'),\n",
       " (3,\n",
       "  '4',\n",
       "  '2 Sqn No 1 Elementary Flying Training School',\n",
       "  '\\\\N',\n",
       "  None,\n",
       "  'WYT',\n",
       "  None,\n",
       "  'United Kingdom',\n",
       "  'N'),\n",
       " (4, '5', '213 Flight Unit', '\\\\N', None, 'TFU', None, 'Russia', 'N')]"
      ]
     },
     "execution_count": 3,
     "metadata": {},
     "output_type": "execute_result"
    }
   ],
   "source": [
    "cursor.execute(\"SELECT * FROM airlines LIMIT 5;\").fetchall()"
   ]
  },
  {
   "cell_type": "markdown",
   "metadata": {},
   "source": [
    "Our cursor is what we'll use to execute queries on a database."
   ]
  },
  {
   "cell_type": "markdown",
   "metadata": {
    "slideshow": {
     "slide_type": "slide"
    }
   },
   "source": [
    "## The Structure of a SQL Query"
   ]
  },
  {
   "cell_type": "markdown",
   "metadata": {
    "slideshow": {
     "slide_type": "slide"
    }
   },
   "source": [
    "![structure of a sql query](images/sql_statement.jpg)"
   ]
  },
  {
   "cell_type": "markdown",
   "metadata": {
    "slideshow": {
     "slide_type": "slide"
    }
   },
   "source": [
    "### Constructing SQL queries"
   ]
  },
  {
   "cell_type": "markdown",
   "metadata": {
    "slideshow": {
     "slide_type": "fragment"
    }
   },
   "source": [
    "**`SELECT`**:  The columns you want\n",
    "\n",
    "options: \n",
    " - `DISTINCT`\n",
    " - using `AS` to rename columns, called *aliasing*\n",
    " - single number aggregates"
   ]
  },
  {
   "cell_type": "markdown",
   "metadata": {
    "slideshow": {
     "slide_type": "fragment"
    }
   },
   "source": [
    "**`FROM`:** the source tables\n",
    "\n",
    "options: \n",
    "- also can alias with `AS`\n",
    "     - here is also where we can join other tables too, with `[LEFT|INNER|RIGHT|FULL] JOIN ___ [ON|USING]`"
   ]
  },
  {
   "cell_type": "markdown",
   "metadata": {
    "slideshow": {
     "slide_type": "fragment"
    }
   },
   "source": [
    "**`WHERE`**: your filters\n",
    "\n",
    "options: \n",
    "- comparators like `=` & `>=`\n",
    "- `BETWEEN`, `IN`, `LIKE` (with wildcards `%`)\n",
    "- booleans like `AND`, `OR`, `NOT`"
   ]
  },
  {
   "cell_type": "markdown",
   "metadata": {
    "slideshow": {
     "slide_type": "fragment"
    }
   },
   "source": [
    "**`ORDER BY`**: sorting\n",
    "\n",
    "options: \n",
    " - `ASC` (default) and `DESC`"
   ]
  },
  {
   "cell_type": "markdown",
   "metadata": {
    "slideshow": {
     "slide_type": "fragment"
    }
   },
   "source": [
    "**`LIMIT`**:  # of rows to return (pair with `OFFSET`)"
   ]
  },
  {
   "cell_type": "markdown",
   "metadata": {},
   "source": [
    "There are more! But those are most of the pieces of an SQL query that we'll use for now.\n",
    "\n",
    "**NOTE:** SQL doesn't care about spacing, and doesn't care about capslock for statement options. But, it's convention - plus it makes your queries easier to read, for yourself and others."
   ]
  },
  {
   "cell_type": "markdown",
   "metadata": {
    "slideshow": {
     "slide_type": "slide"
    }
   },
   "source": [
    "### Using `Pragma`\n",
    "\n",
    "Note that [`PRAGMA`](https://www.sqlite.org/pragma.html) is a query statement specific to SQLite - in some ways similar to describe\n",
    "\n",
    "**output:**\n",
    "\n",
    "`(column id, column name, data type, whether or not the column can be NULL, the default value for the column, and whether the column is a foreign key)`"
   ]
  },
  {
   "cell_type": "code",
   "execution_count": 9,
   "metadata": {
    "scrolled": true,
    "slideshow": {
     "slide_type": "slide"
    }
   },
   "outputs": [
    {
     "name": "stdout",
     "output_type": "stream",
     "text": [
      "(0, 'index', 'INTEGER', 0, None, 0)\n",
      "(1, 'id', 'TEXT', 0, None, 0)\n",
      "(2, 'name', 'TEXT', 0, None, 0)\n",
      "(3, 'city', 'TEXT', 0, None, 0)\n",
      "(4, 'country', 'TEXT', 0, None, 0)\n",
      "(5, 'code', 'TEXT', 0, None, 0)\n",
      "(6, 'icao', 'TEXT', 0, None, 0)\n",
      "(7, 'latitude', 'TEXT', 0, None, 0)\n",
      "(8, 'longitude', 'TEXT', 0, None, 0)\n",
      "(9, 'altitude', 'TEXT', 0, None, 0)\n",
      "(10, 'offset', 'TEXT', 0, None, 0)\n",
      "(11, 'dst', 'TEXT', 0, None, 0)\n",
      "(12, 'timezone', 'TEXT', 0, None, 0)\n"
     ]
    }
   ],
   "source": [
    "cursor.execute(\"PRAGMA table_info(airports)\")\n",
    "info = cursor.fetchall()\n",
    "print(*info, sep='\\n')\n",
    "# print(*info, sep = \"\\n\")  #cool new way of using python's print"
   ]
  },
  {
   "cell_type": "markdown",
   "metadata": {
    "slideshow": {
     "slide_type": "slide"
    }
   },
   "source": [
    "Now let's get the descriptive data for the other two tables, `airlines` and `routes`"
   ]
  },
  {
   "cell_type": "code",
   "execution_count": 5,
   "metadata": {},
   "outputs": [
    {
     "name": "stdout",
     "output_type": "stream",
     "text": [
      "(0, 'index', 'INTEGER', 0, None, 0)\n",
      "(1, 'id', 'TEXT', 0, None, 0)\n",
      "(2, 'name', 'TEXT', 0, None, 0)\n",
      "(3, 'alias', 'TEXT', 0, None, 0)\n",
      "(4, 'iata', 'TEXT', 0, None, 0)\n",
      "(5, 'icao', 'TEXT', 0, None, 0)\n",
      "(6, 'callsign', 'TEXT', 0, None, 0)\n",
      "(7, 'country', 'TEXT', 0, None, 0)\n",
      "(8, 'active', 'TEXT', 0, None, 0)\n"
     ]
    }
   ],
   "source": [
    "cursor.execute(\"PRAGMA table_info(airlines)\")\n",
    "info = cursor.fetchall()\n",
    "print(*info, sep = \"\\n\")"
   ]
  },
  {
   "cell_type": "code",
   "execution_count": 13,
   "metadata": {},
   "outputs": [
    {
     "data": {
      "text/plain": [
       "[(0, '2B', '410', 'AER', '2965', 'KZN', '2990', None, '0', 'CR2'),\n",
       " (1, '2B', '410', 'ASF', '2966', 'KZN', '2990', None, '0', 'CR2'),\n",
       " (2, '2B', '410', 'ASF', '2966', 'MRV', '2962', None, '0', 'CR2')]"
      ]
     },
     "execution_count": 13,
     "metadata": {},
     "output_type": "execute_result"
    }
   ],
   "source": [
    "cursor.execute(\"\"\"\n",
    "    SELECT * \n",
    "    FROM routes\n",
    "    LIMIT 3;\n",
    "\"\"\").fetchall()"
   ]
  },
  {
   "cell_type": "code",
   "execution_count": 15,
   "metadata": {},
   "outputs": [
    {
     "name": "stdout",
     "output_type": "stream",
     "text": [
      "(0, '1', 'Goroka', 'Goroka', 'Papua New Guinea', 'GKA', 'AYGA', '-6.081689', '145.391881', '5282', '10', 'U', 'Pacific/Port_Moresby')\n",
      "(1, '2', 'Madang', 'Madang', 'Papua New Guinea', 'MAG', 'AYMD', '-5.207083', '145.7887', '20', '10', 'U', 'Pacific/Port_Moresby')\n",
      "(2, '3', 'Mount Hagen', 'Mount Hagen', 'Papua New Guinea', 'HGU', 'AYMH', '-5.826789', '144.295861', '5388', '10', 'U', 'Pacific/Port_Moresby')\n"
     ]
    }
   ],
   "source": [
    "print(*cursor.execute(\"\"\"\n",
    "    SELECT * \n",
    "    FROM airports\n",
    "    LIMIT 3;\n",
    "\"\"\").fetchall(), sep=\"\\n\")"
   ]
  },
  {
   "cell_type": "code",
   "execution_count": 12,
   "metadata": {
    "scrolled": true
   },
   "outputs": [
    {
     "name": "stdout",
     "output_type": "stream",
     "text": [
      "(0, 'index', 'INTEGER', 0, None, 0)\n",
      "(1, 'id', 'TEXT', 0, None, 0)\n",
      "(2, 'name', 'TEXT', 0, None, 0)\n",
      "(3, 'city', 'TEXT', 0, None, 0)\n",
      "(4, 'country', 'TEXT', 0, None, 0)\n",
      "(5, 'code', 'TEXT', 0, None, 0)\n",
      "(6, 'icao', 'TEXT', 0, None, 0)\n",
      "(7, 'latitude', 'TEXT', 0, None, 0)\n",
      "(8, 'longitude', 'TEXT', 0, None, 0)\n",
      "(9, 'altitude', 'TEXT', 0, None, 0)\n",
      "(10, 'offset', 'TEXT', 0, None, 0)\n",
      "(11, 'dst', 'TEXT', 0, None, 0)\n",
      "(12, 'timezone', 'TEXT', 0, None, 0)\n"
     ]
    }
   ],
   "source": [
    "print(*cursor.execute(\"PRAGMA table_info(airports)\").fetchall(), sep='\\n')"
   ]
  },
  {
   "cell_type": "code",
   "execution_count": 10,
   "metadata": {
    "scrolled": true
   },
   "outputs": [
    {
     "name": "stdout",
     "output_type": "stream",
     "text": [
      "(0, 'index', 'INTEGER', 0, None, 0)\n",
      "(1, 'airline', 'TEXT', 0, None, 0)\n",
      "(2, 'airline_id', 'TEXT', 0, None, 0)\n",
      "(3, 'source', 'TEXT', 0, None, 0)\n",
      "(4, 'source_id', 'TEXT', 0, None, 0)\n",
      "(5, 'dest', 'TEXT', 0, None, 0)\n",
      "(6, 'dest_id', 'TEXT', 0, None, 0)\n",
      "(7, 'codeshare', 'TEXT', 0, None, 0)\n",
      "(8, 'stops', 'TEXT', 0, None, 0)\n",
      "(9, 'equipment', 'TEXT', 0, None, 0)\n"
     ]
    }
   ],
   "source": [
    "cursor.execute(\"PRAGMA table_info(routes)\")\n",
    "info = cursor.fetchall()\n",
    "print(*info, sep = \"\\n\")"
   ]
  },
  {
   "cell_type": "markdown",
   "metadata": {},
   "source": [
    "## Time to Practice!"
   ]
  },
  {
   "cell_type": "markdown",
   "metadata": {
    "slideshow": {
     "slide_type": "slide"
    }
   },
   "source": [
    "#### Write a query that will join the **latitude** and **longitude** data from the `airports` table to the information on the `routes` table"
   ]
  },
  {
   "cell_type": "code",
   "execution_count": 26,
   "metadata": {
    "scrolled": true
   },
   "outputs": [
    {
     "data": {
      "text/plain": [
       "[(0,\n",
       "  '2B',\n",
       "  '410',\n",
       "  'AER',\n",
       "  '2965',\n",
       "  'KZN',\n",
       "  '2990',\n",
       "  None,\n",
       "  '0',\n",
       "  'CR2',\n",
       "  '43.449928',\n",
       "  '39.956589',\n",
       "  'Sochi',\n",
       "  '55.606186',\n",
       "  '49.278728',\n",
       "  'Kazan')]"
      ]
     },
     "execution_count": 26,
     "metadata": {},
     "output_type": "execute_result"
    }
   ],
   "source": [
    "cursor.execute(\"\"\"\n",
    "    SELECT \n",
    "        r.*, \n",
    "        source.latitude AS source_lat,\n",
    "        source.longitude AS source_long,\n",
    "        source.name AS source_name,\n",
    "        dest.latitude AS dest_lat,\n",
    "        dest.longitude AS dest_long,\n",
    "        dest.name AS dest_name\n",
    "    FROM routes AS r\n",
    "    JOIN airports AS source ON r.source_id = source.id\n",
    "    JOIN airports AS dest ON r.dest_id = dest.id\n",
    "    LIMIT 1\n",
    "\"\"\").fetchall()"
   ]
  },
  {
   "cell_type": "code",
   "execution_count": 27,
   "metadata": {},
   "outputs": [
    {
     "name": "stdout",
     "output_type": "stream",
     "text": [
      "('index', None, None, None, None, None, None)\n",
      "('airline', None, None, None, None, None, None)\n",
      "('airline_id', None, None, None, None, None, None)\n",
      "('source', None, None, None, None, None, None)\n",
      "('source_id', None, None, None, None, None, None)\n",
      "('dest', None, None, None, None, None, None)\n",
      "('dest_id', None, None, None, None, None, None)\n",
      "('codeshare', None, None, None, None, None, None)\n",
      "('stops', None, None, None, None, None, None)\n",
      "('equipment', None, None, None, None, None, None)\n",
      "('source_lat', None, None, None, None, None, None)\n",
      "('source_long', None, None, None, None, None, None)\n",
      "('source_name', None, None, None, None, None, None)\n",
      "('dest_lat', None, None, None, None, None, None)\n",
      "('dest_long', None, None, None, None, None, None)\n",
      "('dest_name', None, None, None, None, None, None)\n"
     ]
    }
   ],
   "source": [
    " print(*cursor.description, sep='\\n')"
   ]
  },
  {
   "cell_type": "markdown",
   "metadata": {
    "slideshow": {
     "slide_type": "slide"
    }
   },
   "source": [
    "#### Which countries have the most active airlines?\n",
    "\n",
    "Return the 25 countries with the most active airlines"
   ]
  },
  {
   "cell_type": "code",
   "execution_count": 23,
   "metadata": {},
   "outputs": [
    {
     "name": "stdout",
     "output_type": "stream",
     "text": [
      "(0, '1', 'Private flight', '\\\\N', '-', None, None, None, 'Y')\n",
      "(1, '2', '135 Airways', '\\\\N', None, 'GNL', 'GENERAL', 'United States', 'N')\n",
      "(2, '3', '1Time Airline', '\\\\N', '1T', 'RNX', 'NEXTIME', 'South Africa', 'Y')\n"
     ]
    }
   ],
   "source": [
    "print(*cursor.execute(\"\"\"\n",
    "    SELECT * \n",
    "    FROM airlines\n",
    "    LIMIT 3;\n",
    "\"\"\").fetchall(), sep=\"\\n\")"
   ]
  },
  {
   "cell_type": "code",
   "execution_count": 25,
   "metadata": {},
   "outputs": [
    {
     "name": "stdout",
     "output_type": "stream",
     "text": [
      "('index', None, None, None, None, None, None)\n",
      "('id', None, None, None, None, None, None)\n",
      "('name', None, None, None, None, None, None)\n",
      "('alias', None, None, None, None, None, None)\n",
      "('iata', None, None, None, None, None, None)\n",
      "('icao', None, None, None, None, None, None)\n",
      "('callsign', None, None, None, None, None, None)\n",
      "('country', None, None, None, None, None, None)\n",
      "('active', None, None, None, None, None, None)\n"
     ]
    }
   ],
   "source": [
    "print(*cursor.description, sep='\\n')"
   ]
  },
  {
   "cell_type": "code",
   "execution_count": 32,
   "metadata": {
    "scrolled": true,
    "slideshow": {
     "slide_type": "skip"
    }
   },
   "outputs": [
    {
     "data": {
      "text/plain": [
       "[('United States', 141),\n",
       " ('Russia', 72),\n",
       " ('United Kingdom', 40),\n",
       " ('Germany', 37),\n",
       " ('Canada', 34),\n",
       " ('Australia', 26),\n",
       " ('China', 25),\n",
       " ('Spain', 24),\n",
       " ('Brazil', 23),\n",
       " ('France', 22),\n",
       " ('Japan', 19),\n",
       " ('Italy', 18),\n",
       " ('Indonesia', 17),\n",
       " ('India', 17),\n",
       " ('Turkey', 16),\n",
       " ('Thailand', 16),\n",
       " ('Sweden', 15),\n",
       " ('Switzerland', 14),\n",
       " ('Ukraine', 13),\n",
       " ('Portugal', 13),\n",
       " ('Mexico', 12),\n",
       " ('Finland', 12),\n",
       " ('Egypt', 12),\n",
       " ('Austria', 12),\n",
       " ('Peru', 11)]"
      ]
     },
     "execution_count": 32,
     "metadata": {},
     "output_type": "execute_result"
    }
   ],
   "source": [
    "cursor.execute(\"\"\"\n",
    "    SELECT country, COUNT(*) AS active_airline_count\n",
    "    FROM airlines\n",
    "    WHERE active = 'Y'\n",
    "    GROUP BY country\n",
    "    ORDER BY active_airline_count DESC\n",
    "    LIMIT 25\n",
    "\"\"\").fetchall()"
   ]
  },
  {
   "cell_type": "markdown",
   "metadata": {},
   "source": [
    "#### What about inactive airlines?\n",
    "\n",
    "Return all the countries that have more than 10 inactive airlines."
   ]
  },
  {
   "cell_type": "code",
   "execution_count": 33,
   "metadata": {
    "slideshow": {
     "slide_type": "skip"
    }
   },
   "outputs": [
    {
     "data": {
      "text/plain": [
       "[(None, 13),\n",
       " ('Angola', 35),\n",
       " ('Argentina', 14),\n",
       " ('Armenia', 15),\n",
       " ('Australia', 67),\n",
       " ('Austria', 38),\n",
       " ('Belgium', 21),\n",
       " ('Brazil', 35),\n",
       " ('Bulgaria', 25),\n",
       " ('Cambodia', 12),\n",
       " ('Canada', 284),\n",
       " ('Chile', 35),\n",
       " ('China', 45),\n",
       " ('Colombia', 34),\n",
       " ('Czech Republic', 27),\n",
       " ('Democratic Republic of the Congo', 19),\n",
       " ('Denmark', 25),\n",
       " ('Dominican Republic', 25),\n",
       " ('Ecuador', 19),\n",
       " ('Egypt', 36),\n",
       " ('France', 97),\n",
       " ('Georgia', 12),\n",
       " ('Germany', 94),\n",
       " ('Ghana', 17),\n",
       " ('Greece', 19),\n",
       " ('Guinea', 11),\n",
       " ('Haiti', 14),\n",
       " ('Hungary', 15),\n",
       " ('Iceland', 11),\n",
       " ('Indonesia', 31),\n",
       " ('Iran', 24),\n",
       " ('Ireland', 21),\n",
       " ('Israel', 16),\n",
       " ('Italy', 72),\n",
       " ('Ivory Coast', 15),\n",
       " ('Japan', 25),\n",
       " ('Kazakhstan', 73),\n",
       " ('Kenya', 20),\n",
       " ('Kyrgyzstan', 29),\n",
       " ('Lebanon', 13),\n",
       " ('Libya', 23),\n",
       " ('Lithuania', 13),\n",
       " ('Luxembourg', 11),\n",
       " ('Mauritania', 32),\n",
       " ('Mexico', 427),\n",
       " ('Moldova', 17),\n",
       " ('Netherlands', 43),\n",
       " ('New Zealand', 24),\n",
       " ('Nigeria', 80),\n",
       " ('Norway', 23),\n",
       " ('Pakistan', 22),\n",
       " ('Peru', 15),\n",
       " ('Philippines', 13),\n",
       " ('Poland', 12),\n",
       " ('Portugal', 32),\n",
       " ('Russia', 158),\n",
       " ('Senegal', 12),\n",
       " ('Sierra Leone', 23),\n",
       " ('Slovakia', 14),\n",
       " ('South Africa', 81),\n",
       " ('Spain', 142),\n",
       " ('Sudan', 47),\n",
       " ('Sweden', 55),\n",
       " ('Switzerland', 46),\n",
       " ('Thailand', 32),\n",
       " ('Turkey', 23),\n",
       " ('Uganda', 21),\n",
       " ('Ukraine', 76),\n",
       " ('United Arab Emirates', 23),\n",
       " ('United Kingdom', 367),\n",
       " ('United States', 939),\n",
       " ('Venezuela', 22),\n",
       " ('Zambia', 20)]"
      ]
     },
     "execution_count": 33,
     "metadata": {},
     "output_type": "execute_result"
    }
   ],
   "source": [
    "cursor.execute(\"\"\"\n",
    "    SELECT country, COUNT(*) AS inactive_airline_count\n",
    "    FROM airlines\n",
    "    WHERE active = 'N'\n",
    "    GROUP BY country\n",
    "    HAVING inactive_airline_count > 10\n",
    "\"\"\").fetchall()"
   ]
  },
  {
   "cell_type": "markdown",
   "metadata": {},
   "source": [
    "#### How many airports are there in each timezone?"
   ]
  },
  {
   "cell_type": "code",
   "execution_count": 34,
   "metadata": {
    "slideshow": {
     "slide_type": "skip"
    }
   },
   "outputs": [
    {
     "name": "stdout",
     "output_type": "stream",
     "text": [
      "(0, '1', 'Goroka', 'Goroka', 'Papua New Guinea', 'GKA', 'AYGA', '-6.081689', '145.391881', '5282', '10', 'U', 'Pacific/Port_Moresby')\n",
      "(1, '2', 'Madang', 'Madang', 'Papua New Guinea', 'MAG', 'AYMD', '-5.207083', '145.7887', '20', '10', 'U', 'Pacific/Port_Moresby')\n",
      "(2, '3', 'Mount Hagen', 'Mount Hagen', 'Papua New Guinea', 'HGU', 'AYMH', '-5.826789', '144.295861', '5388', '10', 'U', 'Pacific/Port_Moresby')\n"
     ]
    }
   ],
   "source": [
    "print(*cursor.execute(\"\"\"\n",
    "    SELECT * \n",
    "    FROM airports\n",
    "    LIMIT 3;\n",
    "\"\"\").fetchall(), sep=\"\\n\")"
   ]
  },
  {
   "cell_type": "code",
   "execution_count": 36,
   "metadata": {},
   "outputs": [
    {
     "name": "stdout",
     "output_type": "stream",
     "text": [
      "('index', None, None, None, None, None, None)\n",
      "('id', None, None, None, None, None, None)\n",
      "('name', None, None, None, None, None, None)\n",
      "('city', None, None, None, None, None, None)\n",
      "('country', None, None, None, None, None, None)\n",
      "('code', None, None, None, None, None, None)\n",
      "('icao', None, None, None, None, None, None)\n",
      "('latitude', None, None, None, None, None, None)\n",
      "('longitude', None, None, None, None, None, None)\n",
      "('altitude', None, None, None, None, None, None)\n",
      "('offset', None, None, None, None, None, None)\n",
      "('dst', None, None, None, None, None, None)\n",
      "('timezone', None, None, None, None, None, None)\n"
     ]
    }
   ],
   "source": [
    "print(*cursor.description, sep=\"\\n\")"
   ]
  },
  {
   "cell_type": "code",
   "execution_count": 37,
   "metadata": {},
   "outputs": [
    {
     "data": {
      "text/plain": [
       "[('Africa/Abidjan', 7),\n",
       " ('Africa/Accra', 6),\n",
       " ('Africa/Addis_Ababa', 31),\n",
       " ('Africa/Algiers', 44),\n",
       " ('Africa/Asmera', 4),\n",
       " ('Africa/Bamako', 8),\n",
       " ('Africa/Bangui', 3),\n",
       " ('Africa/Banjul', 1),\n",
       " ('Africa/Bissau', 2),\n",
       " ('Africa/Blantyre', 8),\n",
       " ('Africa/Brazzaville', 5),\n",
       " ('Africa/Bujumbura', 1),\n",
       " ('Africa/Cairo', 21),\n",
       " ('Africa/Casablanca', 22),\n",
       " ('Africa/Conakry', 6),\n",
       " ('Africa/Dakar', 9),\n",
       " ('Africa/Dar_es_Salaam', 28),\n",
       " ('Africa/Djibouti', 3),\n",
       " ('Africa/Douala', 10),\n",
       " ('Africa/El_Aaiun', 3),\n",
       " ('Africa/Freetown', 8),\n",
       " ('Africa/Gaborone', 25),\n",
       " ('Africa/Harare', 16),\n",
       " ('Africa/Johannesburg', 104),\n",
       " ('Africa/Juba', 7),\n",
       " ('Africa/Kampala', 9),\n",
       " ('Africa/Khartoum', 14),\n",
       " ('Africa/Kigali', 4),\n",
       " ('Africa/Kinshasa', 18),\n",
       " ('Africa/Lagos', 27),\n",
       " ('Africa/Libreville', 14),\n",
       " ('Africa/Lome', 2),\n",
       " ('Africa/Luanda', 25),\n",
       " ('Africa/Lubumbashi', 15),\n",
       " ('Africa/Lusaka', 13),\n",
       " ('Africa/Malabo', 2),\n",
       " ('Africa/Maputo', 22),\n",
       " ('Africa/Maseru', 3),\n",
       " ('Africa/Mbabane', 1),\n",
       " ('Africa/Mogadishu', 11),\n",
       " ('Africa/Monrovia', 3),\n",
       " ('Africa/Nairobi', 54),\n",
       " ('Africa/Ndjamena', 7),\n",
       " ('Africa/Niamey', 7),\n",
       " ('Africa/Nouakchott', 11),\n",
       " ('Africa/Ouagadougou', 2),\n",
       " ('Africa/Porto-Novo', 1),\n",
       " ('Africa/Sao_Tome', 2),\n",
       " ('Africa/Tripoli', 22),\n",
       " ('Africa/Tunis', 13),\n",
       " ('Africa/Windhoek', 18),\n",
       " ('America/Anchorage', 258),\n",
       " ('America/Anguilla', 1),\n",
       " ('America/Antigua', 2),\n",
       " ('America/Aruba', 1),\n",
       " ('America/Asuncion', 8),\n",
       " ('America/Barbados', 1),\n",
       " ('America/Belize', 12),\n",
       " ('America/Blanc-Sablon', 7),\n",
       " ('America/Boa_Vista', 52),\n",
       " ('America/Bogota', 72),\n",
       " ('America/Campo_Grande', 15),\n",
       " ('America/Caracas', 58),\n",
       " ('America/Cayenne', 21),\n",
       " ('America/Cayman', 3),\n",
       " ('America/Chicago', 373),\n",
       " ('America/Coral_Harbour', 3),\n",
       " ('America/Cordoba', 104),\n",
       " ('America/Costa_Rica', 29),\n",
       " ('America/Curacao', 8),\n",
       " ('America/Danmarkshavn', 2),\n",
       " ('America/Dawson_Creek', 2),\n",
       " ('America/Denver', 135),\n",
       " ('America/Dominica', 3),\n",
       " ('America/Edmonton', 66),\n",
       " ('America/El_Salvador', 2),\n",
       " ('America/Fortaleza', 44),\n",
       " ('America/Godthab', 22),\n",
       " ('America/Grand_Turk', 6),\n",
       " ('America/Grenada', 3),\n",
       " ('America/Guadeloupe', 6),\n",
       " ('America/Guatemala', 10),\n",
       " ('America/Guayaquil', 35),\n",
       " ('America/Guyana', 14),\n",
       " ('America/Halifax', 27),\n",
       " ('America/Havana', 29),\n",
       " ('America/Hermosillo', 5),\n",
       " ('America/Jamaica', 7),\n",
       " ('America/La_Paz', 27),\n",
       " ('America/Lima', 43),\n",
       " ('America/Los_Angeles', 226),\n",
       " ('America/Managua', 11),\n",
       " ('America/Martinique', 4),\n",
       " ('America/Mazatlan', 16),\n",
       " ('America/Mexico_City', 65),\n",
       " ('America/Miquelon', 2),\n",
       " ('America/Montevideo', 12),\n",
       " ('America/Montserrat', 2),\n",
       " ('America/Nassau', 37),\n",
       " ('America/New_York', 628),\n",
       " ('America/Panama', 26),\n",
       " ('America/Paramaribo', 23),\n",
       " ('America/Phoenix', 42),\n",
       " ('America/Port-au-Prince', 14),\n",
       " ('America/Port_of_Spain', 2),\n",
       " ('America/Puerto_Rico', 15),\n",
       " ('America/Regina', 18),\n",
       " ('America/Rio_Branco', 3),\n",
       " ('America/Santiago', 37),\n",
       " ('America/Santo_Domingo', 14),\n",
       " ('America/Sao_Paulo', 97),\n",
       " ('America/Scoresbysund', 2),\n",
       " ('America/St_Johns', 9),\n",
       " ('America/St_Kitts', 3),\n",
       " ('America/St_Lucia', 3),\n",
       " ('America/St_Thomas', 8),\n",
       " ('America/St_Vincent', 5),\n",
       " ('America/Tegucigalpa', 11),\n",
       " ('America/Thule', 2),\n",
       " ('America/Tijuana', 6),\n",
       " ('America/Toronto', 159),\n",
       " ('America/Tortola', 2),\n",
       " ('America/Vancouver', 78),\n",
       " ('America/Winnipeg', 65),\n",
       " ('Antarctica/South_Pole', 19),\n",
       " ('Arctic/Longyearbyen', 7),\n",
       " ('Asia/Aden', 11),\n",
       " ('Asia/Amman', 6),\n",
       " ('Asia/Ashgabat', 8),\n",
       " ('Asia/Baghdad', 10),\n",
       " ('Asia/Bahrain', 2),\n",
       " ('Asia/Baku', 9),\n",
       " ('Asia/Bangkok', 58),\n",
       " ('Asia/Beirut', 2),\n",
       " ('Asia/Bishkek', 4),\n",
       " ('Asia/Brunei', 2),\n",
       " ('Asia/Calcutta', 141),\n",
       " ('Asia/Chongqing', 222),\n",
       " ('Asia/Colombo', 15),\n",
       " ('Asia/Damascus', 6),\n",
       " ('Asia/Dhaka', 13),\n",
       " ('Asia/Dili', 3),\n",
       " ('Asia/Dubai', 19),\n",
       " ('Asia/Dushanbe', 4),\n",
       " ('Asia/Gaza', 2),\n",
       " ('Asia/Hong_Kong', 13),\n",
       " ('Asia/Hovd', 3),\n",
       " ('Asia/Irkutsk', 24),\n",
       " ('Asia/Jakarta', 49),\n",
       " ('Asia/Jayapura', 21),\n",
       " ('Asia/Jerusalem', 20),\n",
       " ('Asia/Kabul', 22),\n",
       " ('Asia/Karachi', 46),\n",
       " ('Asia/Katmandu', 36),\n",
       " ('Asia/Krasnoyarsk', 16),\n",
       " ('Asia/Kuala_Lumpur', 45),\n",
       " ('Asia/Kuwait', 2),\n",
       " ('Asia/Macau', 4),\n",
       " ('Asia/Magadan', 16),\n",
       " ('Asia/Makassar', 42),\n",
       " ('Asia/Manila', 63),\n",
       " ('Asia/Muscat', 6),\n",
       " ('Asia/Nicosia', 4),\n",
       " ('Asia/Omsk', 17),\n",
       " ('Asia/Oral', 7),\n",
       " ('Asia/Phnom_Penh', 13),\n",
       " ('Asia/Pyongyang', 6),\n",
       " ('Asia/Qatar', 3),\n",
       " ('Asia/Qyzylorda', 21),\n",
       " ('Asia/Rangoon', 43),\n",
       " ('Asia/Riyadh', 42),\n",
       " ('Asia/Saigon', 30),\n",
       " ('Asia/Samarkand', 12),\n",
       " ('Asia/Seoul', 30),\n",
       " ('Asia/Singapore', 6),\n",
       " ('Asia/Taipei', 32),\n",
       " ('Asia/Tbilisi', 5),\n",
       " ('Asia/Tehran', 81),\n",
       " ('Asia/Thimphu', 1),\n",
       " ('Asia/Tokyo', 131),\n",
       " ('Asia/Ulaanbaatar', 11),\n",
       " ('Asia/Vientiane', 11),\n",
       " ('Asia/Vladivostok', 19),\n",
       " ('Asia/Yakutsk', 21),\n",
       " ('Asia/Yekaterinburg', 29),\n",
       " ('Asia/Yerevan', 4),\n",
       " ('Atlantic/Azores', 10),\n",
       " ('Atlantic/Bermuda', 2),\n",
       " ('Atlantic/Canary', 10),\n",
       " ('Atlantic/Cape_Verde', 7),\n",
       " ('Atlantic/Faeroe', 3),\n",
       " ('Atlantic/Reykjavik', 22),\n",
       " ('Atlantic/South_Georgia', 2),\n",
       " ('Atlantic/St_Helena', 2),\n",
       " ('Atlantic/Stanley', 5),\n",
       " ('Australia/Adelaide', 23),\n",
       " ('Australia/Brisbane', 81),\n",
       " ('Australia/Darwin', 22),\n",
       " ('Australia/Hobart', 22),\n",
       " ('Australia/Melbourne', 7),\n",
       " ('Australia/Perth', 45),\n",
       " ('Australia/Sydney', 52),\n",
       " ('Europe/Amsterdam', 41),\n",
       " ('Europe/Athens', 60),\n",
       " ('Europe/Belgrade', 4),\n",
       " ('Europe/Berlin', 319),\n",
       " ('Europe/Bratislava', 8),\n",
       " ('Europe/Brussels', 35),\n",
       " ('Europe/Bucharest', 26),\n",
       " ('Europe/Budapest', 14),\n",
       " ('Europe/Chisinau', 3),\n",
       " ('Europe/Copenhagen', 28),\n",
       " ('Europe/Dublin', 23),\n",
       " ('Europe/Gibraltar', 1),\n",
       " ('Europe/Guernsey', 2),\n",
       " ('Europe/Helsinki', 50),\n",
       " ('Europe/Isle_of_Man', 1),\n",
       " ('Europe/Istanbul', 77),\n",
       " ('Europe/Jersey', 1),\n",
       " ('Europe/Kaliningrad', 1),\n",
       " ('Europe/Kiev', 33),\n",
       " ('Europe/Lisbon', 26),\n",
       " ('Europe/Ljubljana', 5),\n",
       " ('Europe/London', 193),\n",
       " ('Europe/Luxembourg', 1),\n",
       " ('Europe/Madrid', 74),\n",
       " ('Europe/Malta', 7),\n",
       " ('Europe/Mariehamn', 1),\n",
       " ('Europe/Minsk', 8),\n",
       " ('Europe/Monaco', 1),\n",
       " ('Europe/Moscow', 100),\n",
       " ('Europe/Oslo', 67),\n",
       " ('Europe/Paris', 232),\n",
       " ('Europe/Podgorica', 2),\n",
       " ('Europe/Prague', 27),\n",
       " ('Europe/Riga', 3),\n",
       " ('Europe/Rome', 93),\n",
       " ('Europe/Sarajevo', 4),\n",
       " ('Europe/Skopje', 2),\n",
       " ('Europe/Sofia', 7),\n",
       " ('Europe/Stockholm', 86),\n",
       " ('Europe/Tallinn', 9),\n",
       " ('Europe/Tirane', 1),\n",
       " ('Europe/Vaduz', 1),\n",
       " ('Europe/Vienna', 30),\n",
       " ('Europe/Vilnius', 8),\n",
       " ('Europe/Warsaw', 35),\n",
       " ('Europe/Zagreb', 13),\n",
       " ('Europe/Zurich', 50),\n",
       " ('Indian/Antananarivo', 45),\n",
       " ('Indian/Chagos', 1),\n",
       " ('Indian/Christmas', 1),\n",
       " ('Indian/Cocos', 1),\n",
       " ('Indian/Comoro', 4),\n",
       " ('Indian/Mahe', 10),\n",
       " ('Indian/Maldives', 38),\n",
       " ('Indian/Mauritius', 2),\n",
       " ('Indian/Mayotte', 1),\n",
       " ('Indian/Reunion', 10),\n",
       " ('Pacific/Apia', 4),\n",
       " ('Pacific/Auckland', 54),\n",
       " ('Pacific/Chatham', 2),\n",
       " ('Pacific/Easter', 1),\n",
       " ('Pacific/Efate', 29),\n",
       " ('Pacific/Enderbury', 1),\n",
       " ('Pacific/Fiji', 17),\n",
       " ('Pacific/Funafuti', 1),\n",
       " ('Pacific/Galapagos', 3),\n",
       " ('Pacific/Gambier', 1),\n",
       " ('Pacific/Guadalcanal', 26),\n",
       " ('Pacific/Guam', 2),\n",
       " ('Pacific/Honolulu', 25),\n",
       " ('Pacific/Johnston', 1),\n",
       " ('Pacific/Kosrae', 1),\n",
       " ('Pacific/Majuro', 32),\n",
       " ('Pacific/Marquesas', 4),\n",
       " ('Pacific/Midway', 1),\n",
       " ('Pacific/Nauru', 1),\n",
       " ('Pacific/Niue', 1),\n",
       " ('Pacific/Norfolk', 1),\n",
       " ('Pacific/Noumea', 11),\n",
       " ('Pacific/Pago_Pago', 3),\n",
       " ('Pacific/Palau', 3),\n",
       " ('Pacific/Ponape', 1),\n",
       " ('Pacific/Port_Moresby', 57),\n",
       " ('Pacific/Rarotonga', 8),\n",
       " ('Pacific/Saipan', 3),\n",
       " ('Pacific/Tahiti', 25),\n",
       " ('Pacific/Tarawa', 8),\n",
       " ('Pacific/Tongatapu', 6),\n",
       " ('Pacific/Truk', 3),\n",
       " ('Pacific/Wake', 1),\n",
       " ('Pacific/Wallis', 2),\n",
       " ('\\\\N', 92)]"
      ]
     },
     "execution_count": 37,
     "metadata": {},
     "output_type": "execute_result"
    }
   ],
   "source": [
    "cursor.execute(\"\"\"\n",
    "    SELECT timezone, COUNT(id) AS airport_count\n",
    "    FROM airports\n",
    "    GROUP BY timezone \n",
    "\"\"\").fetchall()"
   ]
  },
  {
   "cell_type": "markdown",
   "metadata": {},
   "source": [
    "### New Stuff! CASE Statements\n",
    "\n",
    "CASE statements are SQL's version of `if ... then ... else`. They must always be closed with an END (usually an END AS).\n",
    "\n",
    "Useful reference: https://mode.com/sql-tutorial/sql-case/"
   ]
  },
  {
   "cell_type": "code",
   "execution_count": 38,
   "metadata": {},
   "outputs": [
    {
     "data": {
      "text/plain": [
       "[('Goroka', 'Goroka', 'Papua New Guinea', 'southern'),\n",
       " ('Madang', 'Madang', 'Papua New Guinea', 'southern'),\n",
       " ('Mount Hagen', 'Mount Hagen', 'Papua New Guinea', 'southern'),\n",
       " ('Nadzab', 'Nadzab', 'Papua New Guinea', 'southern'),\n",
       " ('Port Moresby Jacksons Intl',\n",
       "  'Port Moresby',\n",
       "  'Papua New Guinea',\n",
       "  'southern'),\n",
       " ('Wewak Intl', 'Wewak', 'Papua New Guinea', 'southern'),\n",
       " ('Narsarsuaq', 'Narssarssuaq', 'Greenland', 'northern'),\n",
       " ('Nuuk', 'Godthaab', 'Greenland', 'northern'),\n",
       " ('Sondre Stromfjord', 'Sondrestrom', 'Greenland', 'northern'),\n",
       " ('Thule Air Base', 'Thule', 'Greenland', 'northern')]"
      ]
     },
     "execution_count": 38,
     "metadata": {},
     "output_type": "execute_result"
    }
   ],
   "source": [
    "# Example - create a new column that shows an airport's hemisphere\n",
    "cursor.execute(\"\"\"\n",
    "    SELECT name, city, country,\n",
    "    CASE WHEN latitude > 0 THEN 'northern'\n",
    "        ELSE 'southern'\n",
    "        END AS hemisphere\n",
    "    FROM airports\n",
    "    LIMIT 10;\n",
    "    \"\"\").fetchall()"
   ]
  },
  {
   "cell_type": "code",
   "execution_count": 39,
   "metadata": {},
   "outputs": [
    {
     "name": "stdout",
     "output_type": "stream",
     "text": [
      "(('name', None, None, None, None, None, None), ('city', None, None, None, None, None, None), ('country', None, None, None, None, None, None), ('hemisphere', None, None, None, None, None, None))\n"
     ]
    }
   ],
   "source": [
    "print(cursor.description)"
   ]
  },
  {
   "cell_type": "markdown",
   "metadata": {},
   "source": [
    "What's happening?\n",
    "\n",
    "1. The CASE statement checks each row to see if the conditional statement (`latitude > 0`) is true\n",
    "2. If that conditional statement is true for that row, the word \"northern\" gets printed in the column that we have named `hemisphere`\n",
    "3. If the conditional statement is false for that row, the word \"southern\" gets printed in the `hemisphere` column instead\n",
    "4. At the same time all this is happening, SQL is retrieving and displaying all the values in the `name` and `city` columns"
   ]
  },
  {
   "cell_type": "markdown",
   "metadata": {},
   "source": [
    "It's always a good idea to close our connections when we're done"
   ]
  },
  {
   "cell_type": "code",
   "execution_count": 40,
   "metadata": {},
   "outputs": [],
   "source": [
    "# Closing those connections\n",
    "cursor.close()\n",
    "con.close()"
   ]
  },
  {
   "cell_type": "markdown",
   "metadata": {
    "slideshow": {
     "slide_type": "slide"
    }
   },
   "source": [
    "## Moving from SQLite3 to pandas"
   ]
  },
  {
   "cell_type": "code",
   "execution_count": 41,
   "metadata": {},
   "outputs": [],
   "source": [
    "# need to import pandas!\n",
    "import pandas as pd"
   ]
  },
  {
   "cell_type": "code",
   "execution_count": 43,
   "metadata": {},
   "outputs": [],
   "source": [
    "pd_con = sqlite3.connect(\"data/flights.db\")"
   ]
  },
  {
   "cell_type": "code",
   "execution_count": 44,
   "metadata": {
    "slideshow": {
     "slide_type": "fragment"
    }
   },
   "outputs": [
    {
     "data": {
      "text/html": [
       "<div>\n",
       "<style scoped>\n",
       "    .dataframe tbody tr th:only-of-type {\n",
       "        vertical-align: middle;\n",
       "    }\n",
       "\n",
       "    .dataframe tbody tr th {\n",
       "        vertical-align: top;\n",
       "    }\n",
       "\n",
       "    .dataframe thead th {\n",
       "        text-align: right;\n",
       "    }\n",
       "</style>\n",
       "<table border=\"1\" class=\"dataframe\">\n",
       "  <thead>\n",
       "    <tr style=\"text-align: right;\">\n",
       "      <th></th>\n",
       "      <th>index</th>\n",
       "      <th>id</th>\n",
       "      <th>name</th>\n",
       "      <th>alias</th>\n",
       "      <th>iata</th>\n",
       "      <th>icao</th>\n",
       "      <th>callsign</th>\n",
       "      <th>country</th>\n",
       "      <th>active</th>\n",
       "    </tr>\n",
       "  </thead>\n",
       "  <tbody>\n",
       "    <tr>\n",
       "      <th>0</th>\n",
       "      <td>0</td>\n",
       "      <td>1</td>\n",
       "      <td>Private flight</td>\n",
       "      <td>\\N</td>\n",
       "      <td>-</td>\n",
       "      <td>None</td>\n",
       "      <td>None</td>\n",
       "      <td>None</td>\n",
       "      <td>Y</td>\n",
       "    </tr>\n",
       "    <tr>\n",
       "      <th>1</th>\n",
       "      <td>1</td>\n",
       "      <td>2</td>\n",
       "      <td>135 Airways</td>\n",
       "      <td>\\N</td>\n",
       "      <td>None</td>\n",
       "      <td>GNL</td>\n",
       "      <td>GENERAL</td>\n",
       "      <td>United States</td>\n",
       "      <td>N</td>\n",
       "    </tr>\n",
       "    <tr>\n",
       "      <th>2</th>\n",
       "      <td>2</td>\n",
       "      <td>3</td>\n",
       "      <td>1Time Airline</td>\n",
       "      <td>\\N</td>\n",
       "      <td>1T</td>\n",
       "      <td>RNX</td>\n",
       "      <td>NEXTIME</td>\n",
       "      <td>South Africa</td>\n",
       "      <td>Y</td>\n",
       "    </tr>\n",
       "    <tr>\n",
       "      <th>3</th>\n",
       "      <td>3</td>\n",
       "      <td>4</td>\n",
       "      <td>2 Sqn No 1 Elementary Flying Training School</td>\n",
       "      <td>\\N</td>\n",
       "      <td>None</td>\n",
       "      <td>WYT</td>\n",
       "      <td>None</td>\n",
       "      <td>United Kingdom</td>\n",
       "      <td>N</td>\n",
       "    </tr>\n",
       "    <tr>\n",
       "      <th>4</th>\n",
       "      <td>4</td>\n",
       "      <td>5</td>\n",
       "      <td>213 Flight Unit</td>\n",
       "      <td>\\N</td>\n",
       "      <td>None</td>\n",
       "      <td>TFU</td>\n",
       "      <td>None</td>\n",
       "      <td>Russia</td>\n",
       "      <td>N</td>\n",
       "    </tr>\n",
       "    <tr>\n",
       "      <th>...</th>\n",
       "      <td>...</td>\n",
       "      <td>...</td>\n",
       "      <td>...</td>\n",
       "      <td>...</td>\n",
       "      <td>...</td>\n",
       "      <td>...</td>\n",
       "      <td>...</td>\n",
       "      <td>...</td>\n",
       "      <td>...</td>\n",
       "    </tr>\n",
       "    <tr>\n",
       "      <th>6043</th>\n",
       "      <td>6043</td>\n",
       "      <td>19828</td>\n",
       "      <td>Vuela Cuba</td>\n",
       "      <td>Vuela Cuba</td>\n",
       "      <td>6C</td>\n",
       "      <td>6CC</td>\n",
       "      <td>None</td>\n",
       "      <td>Cuba</td>\n",
       "      <td>Y</td>\n",
       "    </tr>\n",
       "    <tr>\n",
       "      <th>6044</th>\n",
       "      <td>6044</td>\n",
       "      <td>19830</td>\n",
       "      <td>All Australia</td>\n",
       "      <td>All Australia</td>\n",
       "      <td>88</td>\n",
       "      <td>8K8</td>\n",
       "      <td>None</td>\n",
       "      <td>Australia</td>\n",
       "      <td>Y</td>\n",
       "    </tr>\n",
       "    <tr>\n",
       "      <th>6045</th>\n",
       "      <td>6045</td>\n",
       "      <td>19831</td>\n",
       "      <td>Fly Europa</td>\n",
       "      <td>None</td>\n",
       "      <td>ER</td>\n",
       "      <td>RWW</td>\n",
       "      <td>None</td>\n",
       "      <td>Spain</td>\n",
       "      <td>Y</td>\n",
       "    </tr>\n",
       "    <tr>\n",
       "      <th>6046</th>\n",
       "      <td>6046</td>\n",
       "      <td>19834</td>\n",
       "      <td>FlyPortugal</td>\n",
       "      <td>None</td>\n",
       "      <td>PO</td>\n",
       "      <td>FPT</td>\n",
       "      <td>FlyPortugal</td>\n",
       "      <td>Portugal</td>\n",
       "      <td>Y</td>\n",
       "    </tr>\n",
       "    <tr>\n",
       "      <th>6047</th>\n",
       "      <td>6047</td>\n",
       "      <td>19845</td>\n",
       "      <td>FTI Fluggesellschaft</td>\n",
       "      <td>None</td>\n",
       "      <td>None</td>\n",
       "      <td>FTI</td>\n",
       "      <td>None</td>\n",
       "      <td>Germany</td>\n",
       "      <td>N</td>\n",
       "    </tr>\n",
       "  </tbody>\n",
       "</table>\n",
       "<p>6048 rows × 9 columns</p>\n",
       "</div>"
      ],
      "text/plain": [
       "      index     id                                          name  \\\n",
       "0         0      1                                Private flight   \n",
       "1         1      2                                   135 Airways   \n",
       "2         2      3                                 1Time Airline   \n",
       "3         3      4  2 Sqn No 1 Elementary Flying Training School   \n",
       "4         4      5                               213 Flight Unit   \n",
       "...     ...    ...                                           ...   \n",
       "6043   6043  19828                                    Vuela Cuba   \n",
       "6044   6044  19830                                 All Australia   \n",
       "6045   6045  19831                                    Fly Europa   \n",
       "6046   6046  19834                                   FlyPortugal   \n",
       "6047   6047  19845                          FTI Fluggesellschaft   \n",
       "\n",
       "              alias  iata  icao     callsign         country active  \n",
       "0                \\N     -  None         None            None      Y  \n",
       "1                \\N  None   GNL      GENERAL   United States      N  \n",
       "2                \\N    1T   RNX      NEXTIME    South Africa      Y  \n",
       "3                \\N  None   WYT         None  United Kingdom      N  \n",
       "4                \\N  None   TFU         None          Russia      N  \n",
       "...             ...   ...   ...          ...             ...    ...  \n",
       "6043     Vuela Cuba    6C   6CC         None            Cuba      Y  \n",
       "6044  All Australia    88   8K8         None       Australia      Y  \n",
       "6045           None    ER   RWW         None           Spain      Y  \n",
       "6046           None    PO   FPT  FlyPortugal        Portugal      Y  \n",
       "6047           None  None   FTI         None         Germany      N  \n",
       "\n",
       "[6048 rows x 9 columns]"
      ]
     },
     "execution_count": 44,
     "metadata": {},
     "output_type": "execute_result"
    }
   ],
   "source": [
    "# Can use either pd.read_sql_query or pd.read_sql\n",
    "pd.read_sql_query(\"SELECT * FROM airlines\", pd_con)"
   ]
  },
  {
   "cell_type": "markdown",
   "metadata": {
    "slideshow": {
     "slide_type": "slide"
    }
   },
   "source": [
    "#### Convert one of the earlier queries in the lesson to a pandas data frame"
   ]
  },
  {
   "cell_type": "code",
   "execution_count": 45,
   "metadata": {
    "scrolled": false
   },
   "outputs": [
    {
     "data": {
      "text/html": [
       "<div>\n",
       "<style scoped>\n",
       "    .dataframe tbody tr th:only-of-type {\n",
       "        vertical-align: middle;\n",
       "    }\n",
       "\n",
       "    .dataframe tbody tr th {\n",
       "        vertical-align: top;\n",
       "    }\n",
       "\n",
       "    .dataframe thead th {\n",
       "        text-align: right;\n",
       "    }\n",
       "</style>\n",
       "<table border=\"1\" class=\"dataframe\">\n",
       "  <thead>\n",
       "    <tr style=\"text-align: right;\">\n",
       "      <th></th>\n",
       "      <th>name</th>\n",
       "      <th>city</th>\n",
       "      <th>country</th>\n",
       "      <th>hemisphere</th>\n",
       "    </tr>\n",
       "  </thead>\n",
       "  <tbody>\n",
       "    <tr>\n",
       "      <th>0</th>\n",
       "      <td>Goroka</td>\n",
       "      <td>Goroka</td>\n",
       "      <td>Papua New Guinea</td>\n",
       "      <td>southern</td>\n",
       "    </tr>\n",
       "    <tr>\n",
       "      <th>1</th>\n",
       "      <td>Madang</td>\n",
       "      <td>Madang</td>\n",
       "      <td>Papua New Guinea</td>\n",
       "      <td>southern</td>\n",
       "    </tr>\n",
       "    <tr>\n",
       "      <th>2</th>\n",
       "      <td>Mount Hagen</td>\n",
       "      <td>Mount Hagen</td>\n",
       "      <td>Papua New Guinea</td>\n",
       "      <td>southern</td>\n",
       "    </tr>\n",
       "    <tr>\n",
       "      <th>3</th>\n",
       "      <td>Nadzab</td>\n",
       "      <td>Nadzab</td>\n",
       "      <td>Papua New Guinea</td>\n",
       "      <td>southern</td>\n",
       "    </tr>\n",
       "    <tr>\n",
       "      <th>4</th>\n",
       "      <td>Port Moresby Jacksons Intl</td>\n",
       "      <td>Port Moresby</td>\n",
       "      <td>Papua New Guinea</td>\n",
       "      <td>southern</td>\n",
       "    </tr>\n",
       "    <tr>\n",
       "      <th>...</th>\n",
       "      <td>...</td>\n",
       "      <td>...</td>\n",
       "      <td>...</td>\n",
       "      <td>...</td>\n",
       "    </tr>\n",
       "    <tr>\n",
       "      <th>8102</th>\n",
       "      <td>Mansons Landing Water Aerodrome</td>\n",
       "      <td>Mansons Landing</td>\n",
       "      <td>Canada</td>\n",
       "      <td>northern</td>\n",
       "    </tr>\n",
       "    <tr>\n",
       "      <th>8103</th>\n",
       "      <td>Port McNeill Airport</td>\n",
       "      <td>Port McNeill</td>\n",
       "      <td>Canada</td>\n",
       "      <td>northern</td>\n",
       "    </tr>\n",
       "    <tr>\n",
       "      <th>8104</th>\n",
       "      <td>Sullivan Bay Water Aerodrome</td>\n",
       "      <td>Sullivan Bay</td>\n",
       "      <td>Canada</td>\n",
       "      <td>northern</td>\n",
       "    </tr>\n",
       "    <tr>\n",
       "      <th>8105</th>\n",
       "      <td>Deer Harbor Seaplane</td>\n",
       "      <td>Deer Harbor</td>\n",
       "      <td>United States</td>\n",
       "      <td>northern</td>\n",
       "    </tr>\n",
       "    <tr>\n",
       "      <th>8106</th>\n",
       "      <td>San Diego Old Town Transit Center</td>\n",
       "      <td>San Diego</td>\n",
       "      <td>United States</td>\n",
       "      <td>northern</td>\n",
       "    </tr>\n",
       "  </tbody>\n",
       "</table>\n",
       "<p>8107 rows × 4 columns</p>\n",
       "</div>"
      ],
      "text/plain": [
       "                                   name             city           country  \\\n",
       "0                                Goroka           Goroka  Papua New Guinea   \n",
       "1                                Madang           Madang  Papua New Guinea   \n",
       "2                           Mount Hagen      Mount Hagen  Papua New Guinea   \n",
       "3                                Nadzab           Nadzab  Papua New Guinea   \n",
       "4            Port Moresby Jacksons Intl     Port Moresby  Papua New Guinea   \n",
       "...                                 ...              ...               ...   \n",
       "8102    Mansons Landing Water Aerodrome  Mansons Landing            Canada   \n",
       "8103               Port McNeill Airport     Port McNeill            Canada   \n",
       "8104       Sullivan Bay Water Aerodrome     Sullivan Bay            Canada   \n",
       "8105               Deer Harbor Seaplane      Deer Harbor     United States   \n",
       "8106  San Diego Old Town Transit Center        San Diego     United States   \n",
       "\n",
       "     hemisphere  \n",
       "0      southern  \n",
       "1      southern  \n",
       "2      southern  \n",
       "3      southern  \n",
       "4      southern  \n",
       "...         ...  \n",
       "8102   northern  \n",
       "8103   northern  \n",
       "8104   northern  \n",
       "8105   northern  \n",
       "8106   northern  \n",
       "\n",
       "[8107 rows x 4 columns]"
      ]
     },
     "execution_count": 45,
     "metadata": {},
     "output_type": "execute_result"
    }
   ],
   "source": [
    "pd.read_sql(\"\"\"\n",
    "    SELECT name, city, country,\n",
    "    CASE WHEN latitude > 0 THEN 'northern'\n",
    "        ELSE 'southern'\n",
    "        END AS hemisphere\n",
    "    FROM airports\n",
    "    \"\"\", pd_con)"
   ]
  },
  {
   "cell_type": "code",
   "execution_count": 46,
   "metadata": {},
   "outputs": [],
   "source": [
    "# Now close that pandas connection\n",
    "pd_con.close()"
   ]
  },
  {
   "cell_type": "markdown",
   "metadata": {},
   "source": [
    "Another way to move results into a pandas dataframe:"
   ]
  },
  {
   "cell_type": "code",
   "execution_count": 51,
   "metadata": {},
   "outputs": [],
   "source": [
    "# closed our connections before, need to open them back up\n",
    "con = sqlite3.connect('data/flights.db')\n",
    "cursor = con.cursor()"
   ]
  },
  {
   "cell_type": "code",
   "execution_count": 52,
   "metadata": {},
   "outputs": [],
   "source": [
    "res = cursor.execute(\"\"\"\n",
    "    SELECT country, COUNT(*) as active_airline_count\n",
    "    FROM airlines\n",
    "    WHERE active = 'Y'\n",
    "    GROUP BY country\n",
    "    ORDER BY active_airline_count DESC;\n",
    "    \"\"\").fetchall()"
   ]
  },
  {
   "cell_type": "code",
   "execution_count": 55,
   "metadata": {},
   "outputs": [
    {
     "data": {
      "text/plain": [
       "(('country', None, None, None, None, None, None),\n",
       " ('active_airline_count', None, None, None, None, None, None))"
      ]
     },
     "execution_count": 55,
     "metadata": {},
     "output_type": "execute_result"
    }
   ],
   "source": [
    "cursor.description"
   ]
  },
  {
   "cell_type": "code",
   "execution_count": 56,
   "metadata": {},
   "outputs": [],
   "source": [
    "df = pd.DataFrame(res)\n",
    "df.columns = [desc[0] for desc in cursor.description]"
   ]
  },
  {
   "cell_type": "code",
   "execution_count": 57,
   "metadata": {},
   "outputs": [
    {
     "data": {
      "text/html": [
       "<div>\n",
       "<style scoped>\n",
       "    .dataframe tbody tr th:only-of-type {\n",
       "        vertical-align: middle;\n",
       "    }\n",
       "\n",
       "    .dataframe tbody tr th {\n",
       "        vertical-align: top;\n",
       "    }\n",
       "\n",
       "    .dataframe thead th {\n",
       "        text-align: right;\n",
       "    }\n",
       "</style>\n",
       "<table border=\"1\" class=\"dataframe\">\n",
       "  <thead>\n",
       "    <tr style=\"text-align: right;\">\n",
       "      <th></th>\n",
       "      <th>country</th>\n",
       "      <th>active_airline_count</th>\n",
       "    </tr>\n",
       "  </thead>\n",
       "  <tbody>\n",
       "    <tr>\n",
       "      <th>0</th>\n",
       "      <td>United States</td>\n",
       "      <td>141</td>\n",
       "    </tr>\n",
       "    <tr>\n",
       "      <th>1</th>\n",
       "      <td>Russia</td>\n",
       "      <td>72</td>\n",
       "    </tr>\n",
       "    <tr>\n",
       "      <th>2</th>\n",
       "      <td>United Kingdom</td>\n",
       "      <td>40</td>\n",
       "    </tr>\n",
       "    <tr>\n",
       "      <th>3</th>\n",
       "      <td>Germany</td>\n",
       "      <td>37</td>\n",
       "    </tr>\n",
       "    <tr>\n",
       "      <th>4</th>\n",
       "      <td>Canada</td>\n",
       "      <td>34</td>\n",
       "    </tr>\n",
       "  </tbody>\n",
       "</table>\n",
       "</div>"
      ],
      "text/plain": [
       "          country  active_airline_count\n",
       "0   United States                   141\n",
       "1          Russia                    72\n",
       "2  United Kingdom                    40\n",
       "3         Germany                    37\n",
       "4          Canada                    34"
      ]
     },
     "execution_count": 57,
     "metadata": {},
     "output_type": "execute_result"
    }
   ],
   "source": [
    "df.head()"
   ]
  },
  {
   "cell_type": "code",
   "execution_count": 58,
   "metadata": {},
   "outputs": [],
   "source": [
    "cursor.close()\n",
    "con.close()"
   ]
  },
  {
   "cell_type": "markdown",
   "metadata": {},
   "source": [
    "## Additional Resources\n",
    "\n",
    "Reading Resources:\n",
    "\n",
    "- [MariaDB's list of relational database terms, which also helps explain table relationships](https://mariadb.com/kb/en/relational-databases-basic-terms/)\n",
    "- [History of SQL Article](https://www.businessnewsdaily.com/5804-what-is-sql.html)\n",
    "- [The original SQL paper from the 1970s](https://www.seas.upenn.edu/~zives/03f/cis550/codd.pdf)\n",
    "\n",
    "Free SQL Courses: \n",
    "\n",
    "- [Kaggle's Courses](https://www.kaggle.com/learn/overview) on Intro to SQL and Advanced SQL - will include connecting to a Google Biq Query database\n",
    "- [Khan Academy's SQL Course](https://www.khanacademy.org/computing/computer-programming/sql), which includes using more complicated query commands like CASE\n",
    "- [Coursera Course on Modern Big Data Analysis with SQL](https://www.coursera.org/specializations/cloudera-big-data-analysis-sql) which was just recommended to me via the data science subreddit - covers SQL queries with specific considerations for very very large datasets stored in clusters in the cloud (specifically covers Hive and Impala, I'll likely be taking this course for fun over the next few weeks if anyone wants to join me!)"
   ]
  }
 ],
 "metadata": {
  "kernelspec": {
   "display_name": "Python 3",
   "language": "python",
   "name": "python3"
  },
  "language_info": {
   "codemirror_mode": {
    "name": "ipython",
    "version": 3
   },
   "file_extension": ".py",
   "mimetype": "text/x-python",
   "name": "python",
   "nbconvert_exporter": "python",
   "pygments_lexer": "ipython3",
   "version": "3.8.5"
  }
 },
 "nbformat": 4,
 "nbformat_minor": 4
}
