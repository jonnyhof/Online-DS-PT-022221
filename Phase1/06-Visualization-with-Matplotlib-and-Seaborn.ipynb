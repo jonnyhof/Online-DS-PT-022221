{
 "cells": [
  {
   "cell_type": "markdown",
   "metadata": {},
   "source": [
    "# Visualizing Titanic Data\n",
    "\n",
    "![titanic picture from wikipedia](https://upload.wikimedia.org/wikipedia/commons/thumb/f/fd/RMS_Titanic_3.jpg/600px-RMS_Titanic_3.jpg)"
   ]
  },
  {
   "cell_type": "code",
   "execution_count": null,
   "metadata": {},
   "outputs": [],
   "source": [
    "# first, need our imports and to grab the data\n"
   ]
  },
  {
   "cell_type": "code",
   "execution_count": null,
   "metadata": {},
   "outputs": [],
   "source": [
    "# what's in the data?\n"
   ]
  },
  {
   "cell_type": "markdown",
   "metadata": {},
   "source": [
    "### Who Paid the Most Fare?\n",
    "\n",
    "As always - a few ways we can do this: `.loc` versus `sort_values`"
   ]
  },
  {
   "cell_type": "code",
   "execution_count": null,
   "metadata": {},
   "outputs": [],
   "source": []
  },
  {
   "cell_type": "code",
   "execution_count": null,
   "metadata": {},
   "outputs": [],
   "source": []
  },
  {
   "cell_type": "markdown",
   "metadata": {},
   "source": [
    "And let's visualize some more!"
   ]
  },
  {
   "cell_type": "code",
   "execution_count": null,
   "metadata": {},
   "outputs": [],
   "source": [
    "# Plot a histogram - but now, let's do all fares\n"
   ]
  },
  {
   "cell_type": "code",
   "execution_count": null,
   "metadata": {},
   "outputs": [],
   "source": [
    "# Okay that's pretty bland, let's see if we can add more detail\n"
   ]
  },
  {
   "cell_type": "markdown",
   "metadata": {},
   "source": [
    "### What are the Most Common Last Names?\n",
    "\n",
    "Wait, the last names are part of the full name column... first we'll need to grab the last names!\n",
    "\n",
    "A few ways we can do this:"
   ]
  },
  {
   "cell_type": "code",
   "execution_count": null,
   "metadata": {},
   "outputs": [],
   "source": [
    "# Need to grab last names ... but how?\n"
   ]
  },
  {
   "cell_type": "code",
   "execution_count": null,
   "metadata": {},
   "outputs": [],
   "source": []
  },
  {
   "cell_type": "code",
   "execution_count": null,
   "metadata": {},
   "outputs": [],
   "source": []
  },
  {
   "cell_type": "markdown",
   "metadata": {},
   "source": [
    "`groupby` or `value_counts`?"
   ]
  },
  {
   "cell_type": "code",
   "execution_count": null,
   "metadata": {},
   "outputs": [],
   "source": []
  },
  {
   "cell_type": "markdown",
   "metadata": {},
   "source": [
    "Now let's visualize:"
   ]
  },
  {
   "cell_type": "code",
   "execution_count": null,
   "metadata": {},
   "outputs": [],
   "source": [
    "# Plot a bar graph of the most common last names\n"
   ]
  },
  {
   "cell_type": "markdown",
   "metadata": {},
   "source": [
    "### Make it Pop!"
   ]
  },
  {
   "cell_type": "code",
   "execution_count": null,
   "metadata": {},
   "outputs": [],
   "source": [
    "# Add percentages to the end of each bar\n",
    "\n",
    "\n",
    "\n",
    "\n",
    "# Leaving this code for me... need to change None to whatever we named things\n",
    "# # This tricky bit of code annotates percentages on the chart\n",
    "# y = 0 # our start point on our y axis for the details\n",
    "# # Doing this for each last name\n",
    "# for row in None.index:\n",
    "#     # grabbing the last name\n",
    "#     x = None\n",
    "#     # grabbing the percentage of the passengers with that last name\n",
    "#     ln_perc = None * 100\n",
    "#     # formatting with f-strings for readability\n",
    "#     percentage = f'{ln_perc:,.2f}%' \n",
    "#     # annotating the chart, locating the annotation at the name and our y height\n",
    "#     ax.annotate(percentage,(x, y))\n",
    "#     # adding 1 to our y for the next name\n",
    "#     y += 1\n"
   ]
  },
  {
   "cell_type": "markdown",
   "metadata": {},
   "source": [
    "## Seaborn \n",
    "\n",
    "![Sam Seaborn from West Wing, image from the TV guide](https://tvguide1.cbsistatic.com/i/2017/01/07/0f1a6ab5-8c63-4869-9f85-5d8b2b14913b/cf2e9396152ee85468e5bcfe063053a4/010717-west-wing-rob-lowe-news.jpg)\n",
    "\n",
    "[Seaborn, I choose you!](https://elitedatascience.com/python-seaborn-tutorial) (aka an excellent exploration of the functionality of Seaborn)\n",
    "\n",
    "Now let's practice with Seaborn:"
   ]
  },
  {
   "cell_type": "code",
   "execution_count": null,
   "metadata": {},
   "outputs": [],
   "source": [
    "import seaborn as sns\n",
    "sns.set(style='darkgrid')\n",
    "# Same as sns.set_style('darkgrid')"
   ]
  },
  {
   "cell_type": "code",
   "execution_count": null,
   "metadata": {
    "scrolled": false
   },
   "outputs": [],
   "source": [
    "# Let's take a look at how these columns overlap\n",
    "sns.pairplot(df, hue='Survived')"
   ]
  },
  {
   "cell_type": "code",
   "execution_count": null,
   "metadata": {},
   "outputs": [],
   "source": [
    "# Try out a swarm plot with class and age\n",
    "sns.swarmplot(x='Pclass', y='Age', data=df, \n",
    "              hue='Survived', size=3.5)"
   ]
  },
  {
   "cell_type": "code",
   "execution_count": null,
   "metadata": {
    "scrolled": false
   },
   "outputs": [],
   "source": [
    "# Let's try a categorical plot (used to be a factor plot)\n",
    "# Do the same swarmplot, but now make columns of survived\n",
    "sns.catplot(x='Pclass', y='Age', data=df, col='Survived')"
   ]
  },
  {
   "cell_type": "code",
   "execution_count": null,
   "metadata": {},
   "outputs": [],
   "source": [
    "# Also, now that we've set the style for our plots, \n",
    "# let's see what a previous matplotlib plot looks like\n",
    "\n"
   ]
  },
  {
   "cell_type": "markdown",
   "metadata": {},
   "source": [
    "## If we have time..."
   ]
  },
  {
   "cell_type": "code",
   "execution_count": null,
   "metadata": {},
   "outputs": [],
   "source": [
    "# plotly\n",
    "import plotly.express as px\n",
    "df = px.data.gapminder()\n",
    "\n",
    "fig = px.scatter(df.query(\"year==2007\"), x=\"gdpPercap\", y=\"lifeExp\",\n",
    "                 size=\"pop\", color=\"continent\",\n",
    "                 hover_name=\"country\", size_max=60)\n",
    "fig.show()"
   ]
  },
  {
   "cell_type": "code",
   "execution_count": null,
   "metadata": {},
   "outputs": [],
   "source": [
    "# folium\n",
    "import folium\n",
    "\n",
    "m = folium.Map(location=[45.5236, -122.6750], zoom_start=13)\n",
    "\n",
    "folium.Circle(\n",
    "    radius=100,\n",
    "    location=[45.5244, -122.6699],\n",
    "    popup=\"The Waterfront\",\n",
    "    color=\"crimson\",\n",
    "    fill=False,\n",
    ").add_to(m)\n",
    "\n",
    "folium.CircleMarker(\n",
    "    location=[45.5215, -122.6261],\n",
    "    radius=50,\n",
    "    popup=\"Laurelhurst Park\",\n",
    "    color=\"#3186cc\",\n",
    "    fill=True,\n",
    "    fill_color=\"#3186cc\",\n",
    ").add_to(m)\n",
    "\n",
    "m"
   ]
  },
  {
   "cell_type": "markdown",
   "metadata": {},
   "source": [
    "## Resources"
   ]
  },
  {
   "cell_type": "markdown",
   "metadata": {},
   "source": [
    "### Other Python Libraries:\n",
    "\n",
    "- [Plotly Express in Python](https://plotly.com/python/plotly-express/)\n",
    "    - please note, not all Plotly visualizations are as easy as plotly express, but have fun exploring\n",
    "- [Folium](https://python-visualization.github.io/folium/quickstart.html)\n",
    "    - used to be restricted as to how many rows would work well, but I've heard it's gotten better at handling bigger data\n",
    "\n",
    "### Resources from the slides:\n",
    "\n",
    "- Visualization Types/examples (often with example code):\n",
    "    - https://datavizproject.com/\n",
    "    - https://python-graph-gallery.com/ \n",
    "    - https://seaborn.pydata.org/examples/index.html\n",
    "    \n",
    "    \n",
    "    \n",
    "- Visualization Inspiration:\n",
    "    - https://www.reddit.com/r/dataisbeautiful/top/?t=all\n",
    "    - https://informationisbeautiful.net/\n",
    "    - https://pudding.cool/\n",
    "\n",
    "\n",
    "- [Python Matplotlib guide (the theory of matplotlib, with examples)](https://realpython.com/python-matplotlib-guide/)\n",
    "- [The best Seaborn tutorial, through Pokemon stats](https://elitedatascience.com/python-seaborn-tutorial)\n",
    "- [2010 TED Talk on data visualization from Information is Beautiful](https://www.ted.com/talks/david_mccandless_the_beauty_of_data_visualization)\n",
    "    - don’t have 20 minutes? check out the last 8, on perspective, [here](https://www.ted.com/talks/david_mccandless_the_beauty_of_data_visualization#t-611279)\n"
   ]
  }
 ],
 "metadata": {
  "kernelspec": {
   "display_name": "Python 3",
   "language": "python",
   "name": "python3"
  },
  "language_info": {
   "codemirror_mode": {
    "name": "ipython",
    "version": 3
   },
   "file_extension": ".py",
   "mimetype": "text/x-python",
   "name": "python",
   "nbconvert_exporter": "python",
   "pygments_lexer": "ipython3",
   "version": "3.8.5"
  }
 },
 "nbformat": 4,
 "nbformat_minor": 2
}
